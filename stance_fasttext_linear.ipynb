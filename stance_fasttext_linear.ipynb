{
 "cells": [
  {
   "cell_type": "markdown",
   "metadata": {},
   "source": [
    "# Simple Stance Detection in Spanish with Linear Model in [Pytorch 1.1](https://pytorch.org/) with [Ignite](https://pytorch.org/ignite/) "
   ]
  },
  {
   "cell_type": "markdown",
   "metadata": {},
   "source": [
    "---"
   ]
  },
  {
   "cell_type": "markdown",
   "metadata": {},
   "source": [
    "* Process Data through pytorch Dataset  \n",
    "  * Tokenize tweets  \n",
    "  * Vectorize tweets with FastText word vector representation\n",
    "* Make batches through pytorch Dataloader  \n",
    "* Linear Models: Linear Regression and 3-ĺayer Linear Regression\n",
    "* [Ignite](https://pytorch.org/ignite/) training callbacks\n",
    "  * Define ignite training loops\n",
    "  * Add callback for epoch loss and accuracy\n",
    "  * Add callback for ModelCheckpoint\n",
    "  * Add callback for EarlyStopping"
   ]
  },
  {
   "cell_type": "markdown",
   "metadata": {},
   "source": [
    "## Imports"
   ]
  },
  {
   "cell_type": "code",
   "execution_count": 2,
   "metadata": {
    "ExecuteTime": {
     "end_time": "2019-05-19T02:58:55.718366Z",
     "start_time": "2019-05-19T02:58:54.563456Z"
    }
   },
   "outputs": [
    {
     "name": "stderr",
     "output_type": "stream",
     "text": [
      "/home/elena/anaconda3/envs/default/lib/python3.7/site-packages/tqdm/std.py:654: FutureWarning: The Panel class is removed from pandas. Accessing it from the top-level namespace will also be removed in the next version\n",
      "  from pandas import Panel\n",
      "2020-01-22 20:51:32,055 : INFO : 'pattern' package not found; tag filters are not available for English\n"
     ]
    }
   ],
   "source": [
    "%matplotlib inline\n",
    "import sys\n",
    "import re\n",
    "import os\n",
    "import pathlib\n",
    "from collections import Counter\n",
    "import numpy as np\n",
    "import pandas as pd\n",
    "import matplotlib.pyplot as plt\n",
    "import seaborn as sns\n",
    "import spacy\n",
    "import spacy\n",
    "spacy.load('es_core_news_sm')\n",
    "from spacy.lang.es import Spanish\n",
    "from tqdm.auto import tqdm, trange\n",
    "tqdm.pandas(desc='Progress')\n",
    "\n",
    "import torch\n",
    "import torch.nn as nn\n",
    "import torch.optim as optim\n",
    "import torch.nn.functional as F\n",
    "from torch.utils.data import Dataset, DataLoader\n",
    "from torch.nn.utils.rnn import pack_padded_sequence, pad_packed_sequence\n",
    "\n",
    "import ignite\n",
    "from ignite.engine import Engine, Events\n",
    "from ignite.metrics import Accuracy, Loss, RunningAverage\n",
    "from ignite.handlers import ModelCheckpoint, EarlyStopping\n",
    "from ignite.contrib.handlers import ProgressBar\n",
    "\n",
    "from sklearn.model_selection import train_test_split\n",
    "from sklearn.metrics import accuracy_score\n",
    "\n",
    "import logging\n",
    "logging.basicConfig(format='%(asctime)s : %(levelname)s : %(message)s', level=logging.INFO)\n",
    "from gensim.models import fasttext\n",
    "from gensim.models.keyedvectors import KeyedVectors\n",
    "from gensim.models.wrappers import FastText\n",
    "\n",
    "import warnings\n",
    "warnings.filterwarnings('ignore')\n",
    "\n",
    "from IPython.core.interactiveshell import InteractiveShell\n",
    "InteractiveShell.ast_node_interactivity='all'\n",
    "\n",
    "device = torch.device('cuda:0' if torch.cuda.is_available() else 'cpu')\n",
    "#device = torch.device('cpu')"
   ]
  },
  {
   "cell_type": "code",
   "execution_count": 3,
   "metadata": {
    "ExecuteTime": {
     "end_time": "2019-05-19T02:58:55.730335Z",
     "start_time": "2019-05-19T02:58:55.719364Z"
    }
   },
   "outputs": [
    {
     "name": "stdout",
     "output_type": "stream",
     "text": [
      "Python version: 3.7.5 (default, Oct 25 2019, 15:51:11) \n",
      "[GCC 7.3.0]\n",
      "Pandas version: 0.25.3\n",
      "Pytorch version: 1.3.1\n",
      "Spacy version: 2.0.16\n",
      "Ignite version: 0.2.1\n"
     ]
    }
   ],
   "source": [
    "print('Python version:',sys.version)\n",
    "print('Pandas version:',pd.__version__)\n",
    "print('Pytorch version:', torch.__version__)\n",
    "print('Spacy version:', spacy.__version__)\n",
    "print('Ignite version:', ignite.__version__)"
   ]
  },
  {
   "cell_type": "markdown",
   "metadata": {},
   "source": [
    "## 1. Process Data "
   ]
  },
  {
   "cell_type": "code",
   "execution_count": 4,
   "metadata": {},
   "outputs": [
    {
     "name": "stderr",
     "output_type": "stream",
     "text": [
      "2020-01-22 20:51:36,511 : WARNING : Slow version of gensim.models.deprecated.word2vec is being used\n",
      "2020-01-22 20:51:36,519 : INFO : loading 2000000 words for fastText model from /home/elena/Desktop/fasttext/cc.es.300.bin\n",
      "2020-01-22 20:52:21,803 : INFO : loading weights for 2000000 words for fastText model from /home/elena/Desktop/fasttext/cc.es.300.bin\n",
      "2020-01-22 20:53:03,459 : INFO : loaded (2000000, 300) weight matrix for fastText model from /home/elena/Desktop/fasttext/cc.es.300.bin\n"
     ]
    }
   ],
   "source": [
    "model_fasttext = FastText.load_fasttext_format('/home/elena/Desktop/fasttext/cc.es.300.bin', encoding='utf-8')\n",
    "#w2v_vectors = model_fasttext.wv.vectors \n",
    "#w2v_indices = {word: model.wv.vocab[word].index for word in model.wv.vocab} \n",
    "#num_features = model.vector_size\n",
    "#vocab = model.wv.vocab.keys()"
   ]
  },
  {
   "cell_type": "code",
   "execution_count": null,
   "metadata": {},
   "outputs": [],
   "source": []
  },
  {
   "cell_type": "code",
   "execution_count": 5,
   "metadata": {
    "ExecuteTime": {
     "end_time": "2019-05-19T02:58:55.853007Z",
     "start_time": "2019-05-19T02:58:55.731333Z"
    }
   },
   "outputs": [],
   "source": [
    "data_root = pathlib.Path('/home/elena/Desktop/Catalonia Independence Corpus/Dataset_Español/DATASET')"
   ]
  },
  {
   "cell_type": "code",
   "execution_count": 6,
   "metadata": {
    "ExecuteTime": {
     "end_time": "2019-05-19T02:59:02.423437Z",
     "start_time": "2019-05-19T02:58:55.855002Z"
    }
   },
   "outputs": [
    {
     "data": {
      "text/plain": [
       "((6046, 7), (2015, 7), (2016, 7))"
      ]
     },
     "execution_count": 6,
     "metadata": {},
     "output_type": "execute_result"
    }
   ],
   "source": [
    "# load csv in pandas dataframe\n",
    "train_df = pd.read_csv(os.path.join(data_root, 'train_hSVM_castellano_dataset.csv'), sep='\\t', error_bad_lines=False)\n",
    "val_df =  pd.read_csv(os.path.join(data_root, 'val_hSVM_castellano_dataset.csv'), sep='\\t', error_bad_lines=False)\n",
    "test_df =  pd.read_csv(os.path.join(data_root, 'test_hSVM_castellano_dataset.csv'), sep='\\t', error_bad_lines=False)\n",
    "\n",
    "train_df.shape, val_df.shape, test_df.shape"
   ]
  },
  {
   "cell_type": "markdown",
   "metadata": {},
   "source": [
    "### Calculate the average over the word vectors"
   ]
  },
  {
   "cell_type": "code",
   "execution_count": 7,
   "metadata": {},
   "outputs": [
    {
     "name": "stdout",
     "output_type": "stream",
     "text": [
      "[ 6.77645160e-03 -1.36414589e-02  2.44615078e-02  2.20699459e-02\n",
      "  4.97638108e-03  3.50623466e-02 -5.11929253e-03 -1.99633017e-02\n",
      " -5.84235275e-03 -8.87753665e-02 -4.62326072e-02  3.13383457e-03\n",
      "  4.49324213e-03  1.50109613e-02  1.32593149e-02  5.76253096e-03\n",
      "  8.75507668e-03 -2.38710851e-03 -6.78000972e-03 -1.77039485e-02\n",
      " -4.88323756e-02  4.21276651e-02 -2.91033890e-02 -1.19686285e-02\n",
      " -7.60351494e-02 -7.22085238e-02  3.53940465e-02  1.36187607e-02\n",
      "  4.06890959e-02  6.96457876e-03  1.27535907e-03  1.57527160e-02\n",
      " -1.18059712e-03 -1.80911534e-02  3.89196463e-02  2.46073660e-02\n",
      " -4.82164603e-03 -3.01716700e-02 -1.79141443e-02 -2.14875787e-02\n",
      " -8.11079368e-02  4.31352668e-02  7.64925554e-02 -2.97837555e-02\n",
      " -1.14156129e-02  2.30263565e-02  3.38370465e-02 -2.06694026e-02\n",
      " -1.34634385e-02 -4.39084182e-03  2.97033731e-02  4.73945588e-02\n",
      " -1.11154197e-02  1.75611544e-02  2.06049811e-02 -7.17070773e-02\n",
      "  1.67260841e-02 -1.64976325e-02  2.63322424e-02 -2.33879834e-02\n",
      " -4.75477008e-03  9.36703477e-03  7.16791814e-03 -1.05420994e-02\n",
      " -1.68611091e-02  2.44058203e-02 -2.10340116e-02  4.23028171e-02\n",
      " -2.66881511e-02 -2.05205530e-02  4.88710701e-02 -2.37760190e-02\n",
      " -8.49820115e-03 -2.12558415e-02  5.86404791e-03 -5.53119788e-03\n",
      " -3.29986289e-02  8.03879648e-03  2.43021026e-02  1.57984067e-02\n",
      "  3.21613881e-03 -7.42398202e-03 -1.78013265e-03  1.33849094e-02\n",
      "  2.25479738e-03  2.58501992e-02  6.29950955e-04 -8.57017527e-04\n",
      "  7.58351758e-02 -1.26324445e-02 -1.64177660e-02  1.12907896e-02\n",
      "  2.36066966e-03  2.91064028e-02  3.29324533e-03  3.40970643e-02\n",
      " -1.09965382e-02 -6.43695414e-04 -6.42035380e-02  6.28539035e-03\n",
      "  2.88520455e-02 -2.32337993e-02  1.00565977e-01 -7.53533735e-04\n",
      "  1.25547759e-02  2.44248196e-01  1.16170542e-02  1.74193215e-02\n",
      "  1.93301868e-02  1.17280602e-01 -1.47021301e-02 -9.71146580e-03\n",
      "  1.21678971e-02  6.56541111e-03 -1.01626880e-01 -3.37766074e-02\n",
      "  5.62415272e-03 -1.55832144e-02 -2.21636966e-02 -4.11546864e-02\n",
      " -3.15464772e-02 -6.05240231e-03  3.62878363e-03  7.79408365e-02\n",
      "  1.19299432e-02 -2.21873540e-02 -4.42175604e-02  6.85057119e-02\n",
      "  1.11815939e-02  1.50633110e-02  1.26926238e-02  5.54489680e-02\n",
      "  4.29722108e-02  1.24665149e-01  2.61900481e-02 -1.66741107e-03\n",
      " -1.25175435e-03 -1.58538353e-02  8.17636261e-04  1.56608056e-02\n",
      "  4.51294780e-02 -8.79627094e-02  7.63938343e-03  2.51888465e-02\n",
      " -1.57610644e-02 -1.19585805e-02 -3.45391594e-02 -9.05867759e-03\n",
      " -4.37455811e-02  1.37609905e-02 -5.92277059e-03 -1.76119944e-03\n",
      " -1.80598255e-02 -5.87324388e-02 -9.39928964e-02 -1.22250887e-02\n",
      " -6.12679124e-03 -1.35456352e-02  7.85486959e-03  3.93171422e-02\n",
      "  2.09761187e-02 -4.11882385e-04 -2.46912870e-03  1.82659794e-02\n",
      "  1.11276917e-02 -1.52889080e-02 -7.19367480e-03  3.78374532e-02\n",
      " -1.08745322e-02  1.74994729e-02 -1.57229358e-03  7.20530301e-02\n",
      " -1.29606733e-02 -4.54960245e-04  5.81161492e-03  6.65142611e-02\n",
      " -5.49173495e-03  2.49920208e-02 -1.54636502e-02 -2.72399583e-03\n",
      "  8.86981841e-03 -2.16411725e-02 -1.18566744e-01  4.96167922e-03\n",
      " -1.33993290e-02 -7.40226731e-03 -1.17454343e-02 -1.12857101e-02\n",
      " -2.11827606e-02  8.58059525e-03 -1.12837218e-02  1.89065468e-02\n",
      " -1.12912757e-02  5.86406887e-02  8.34461860e-03 -8.65594018e-03\n",
      "  2.30353624e-02  5.12696318e-02  7.07047358e-02 -1.24945687e-02\n",
      " -7.11394921e-02 -1.17289335e-01  5.74251935e-05 -2.86945123e-02\n",
      " -8.05694833e-02 -3.06341350e-02 -3.64859477e-02 -4.71132308e-01\n",
      " -9.81751159e-02 -2.06596721e-02 -5.30149303e-02 -1.39894001e-02\n",
      "  8.25278386e-02  2.74637435e-02  2.29512155e-03 -1.68609794e-03\n",
      " -6.47018179e-02 -1.24240927e-02 -5.11992816e-03  3.17173544e-04\n",
      "  2.56552789e-02  3.39322090e-02  1.80414319e-03  5.45963238e-04\n",
      " -1.86060965e-02  2.12815311e-02  1.65050235e-02 -2.11891029e-02\n",
      "  3.29523464e-03 -5.66733023e-03  1.67677421e-02 -4.10069227e-02\n",
      "  3.42347031e-03  2.02577887e-03 -2.57082209e-02 -1.04083009e-02\n",
      " -1.79526489e-02  1.79903861e-02 -4.05695997e-02 -3.85813601e-02\n",
      "  8.60936288e-03 -5.35613932e-02  1.13356896e-02  5.30296080e-02\n",
      "  9.46415868e-03 -1.50065320e-02 -8.14844016e-03 -2.82068178e-02\n",
      " -3.38214301e-02 -7.17092380e-02 -7.53233805e-02  9.31299292e-03\n",
      "  3.80608477e-02 -3.47918295e-03  7.47387717e-03 -5.81137545e-04\n",
      " -5.13457060e-02  1.07227266e-02  4.09839256e-03  5.78573346e-03\n",
      "  1.58075895e-02 -7.74189783e-03 -9.55410209e-03 -2.73204166e-02\n",
      " -1.84829552e-02  1.67593348e-03 -1.06584197e-02  1.82387382e-02\n",
      " -6.32557226e-03  1.88083239e-02 -1.13394484e-02  3.18387267e-03\n",
      " -1.21396752e-02  1.25135928e-02 -2.07823534e-02 -3.85258310e-02\n",
      "  1.71359871e-02  6.63055852e-03 -1.65875219e-02  6.49675131e-02\n",
      "  1.86797685e-03  3.16781774e-02  6.53799549e-02 -4.57302108e-03\n",
      " -1.19435322e-03  3.74528989e-02 -3.15119587e-02  1.41602727e-02\n",
      " -1.26804501e-01  3.63254920e-04 -1.65140908e-03 -1.65760908e-02\n",
      " -1.41224852e-02  6.33267760e-02 -2.73413840e-03 -1.42444121e-02\n",
      "  2.30539646e-02 -1.18305301e-02  2.79391874e-02  9.63599086e-05]\n"
     ]
    }
   ],
   "source": [
    "def featureVecMethod(words, w2v_model, num_features=300):\n",
    "        # Pre-initialising empty numpy array for speed\n",
    "    featureVec = np.zeros(num_features,dtype=\"float32\")\n",
    "    nwords = 0\n",
    "    #append a vector to each word\n",
    "    for word in words:\n",
    "        try: \n",
    "            nwords = nwords + 1\n",
    "            v = w2v_model[word]\n",
    "            #print(word)\n",
    "            #print(v)\n",
    "            #if np.isnan(v).any():\n",
    "                #print(word, v)\n",
    "        except KeyError:\n",
    "            continue\n",
    "        #featureVec = featureVec + w2v_model[word]\n",
    "        featureVec = featureVec + v\n",
    "        #print(word, featureVec)    \n",
    "    # dividing the result by number of words to get average\n",
    "    if nwords != 0:\n",
    "        featureVec = featureVec/nwords\n",
    "    print(featureVec)\n",
    "    return featureVec\n",
    "\n",
    "def getAvgFeatureVecsOOV(tweet, w2v_model, num_features=300):\n",
    "    tweetFeatureVec = np.zeros(num_features,dtype=\"float32\")\n",
    "    #    all_tweets = len(tweets)\n",
    "    tweetFeatureVec = featureVecMethod(tweet, w2v_model, num_features)\n",
    "    print(tweetFeatureVec)\n",
    "\n",
    "    return tweetFeatureVec\n",
    "\n",
    "tweet = ['arrimadas', 'se', 'presenta', 'a', 'las', 'generales', 'sacar', 'a', 'sánchez', 'de', 'moncloa', '#efeurgente']\n",
    "vec = featureVecMethod(tweet, model_fasttext, num_features=300)"
   ]
  },
  {
   "cell_type": "code",
   "execution_count": 8,
   "metadata": {
    "ExecuteTime": {
     "end_time": "2019-05-19T02:59:02.435404Z",
     "start_time": "2019-05-19T02:59:02.425433Z"
    }
   },
   "outputs": [],
   "source": [
    "class StanceDataset(Dataset):\n",
    "    \"\"\"Define the pytorch Dataset to process the tweets\n",
    "       This class can be used for both training and validation dataset\n",
    "       Run it for training data and pass the word2idx and idx2word when running\n",
    "       for validation data\n",
    "    \"\"\"\n",
    "    def __init__(self, df, w2v_model=None):\n",
    "        print('Processing Data')\n",
    "        self.df = df\n",
    "        print('Removing white space...')\n",
    "        self.df.CLEAN_FULL = self.df.CLEAN_FULL.progress_apply(lambda x: x.strip())\n",
    "        self.w2v_model = w2v_model\n",
    "        #self.nlp = Spanish(path=None)\n",
    "        self.nlp = spacy.load('es_core_news_sm',disable=['parser', 'tagger', 'ner'])\n",
    "        self.label2idx = {'FAVOR':0, 'AGAINST':1, 'NEUTRAL':2}\n",
    "        print('*'*100)\n",
    "        print('Dataset info:')\n",
    "        print(f'Number of Tweets: {self.df.shape[0]}')\n",
    "        #print(f'Vocab Size: {len(self.word2idx)}')\n",
    "        print('*'*100)\n",
    "    \n",
    "    def __len__(self):\n",
    "        return self.df.shape[0]\n",
    "    \n",
    "    def __getitem__(self, idx):\n",
    "        sent = self.df.CLEAN_FULL[idx]\n",
    "        tokens = [w.text.lower() for w in self.nlp(self.tweet_clean(sent))]\n",
    "        v = self.vector_average(tokens, self.w2v_model, num_features=300)\n",
    "        vec = torch.from_numpy(v).float()\n",
    "        return vec, self.label2idx[self.df.LABEL[idx]]\n",
    "    \n",
    "    def tweet_clean(self, text):\n",
    "        \"\"\"Very basic text cleaning. This function can be built upon for\n",
    "           better preprocessing\n",
    "        \"\"\"\n",
    "        text = re.sub(r'[\\s]+', ' ', text) # replace multiple white spaces with single space\n",
    "        return text.strip()\n",
    "    \n",
    "    def vector_average(self, words, w2v_model, num_features):\n",
    "        featureVec = np.zeros(num_features, dtype=\"float32\")\n",
    "        nwords = 0\n",
    "        for word in words:\n",
    "            try: \n",
    "                nwords = nwords + 1\n",
    "                v = w2v_model[word]\n",
    "            except KeyError:\n",
    "                continue\n",
    "            featureVec = featureVec + v\n",
    "            #print(word, featureVec)    \n",
    "        if nwords != 0:\n",
    "            featureVec = featureVec/nwords\n",
    "        #print(featureVec)\n",
    "        return featureVec"
   ]
  },
  {
   "cell_type": "markdown",
   "metadata": {},
   "source": [
    "### Training dataset"
   ]
  },
  {
   "cell_type": "code",
   "execution_count": 9,
   "metadata": {
    "ExecuteTime": {
     "end_time": "2019-05-19T03:05:02.555384Z",
     "start_time": "2019-05-19T02:59:02.547107Z"
    }
   },
   "outputs": [
    {
     "name": "stdout",
     "output_type": "stream",
     "text": [
      "Processing Data\n",
      "Removing white space...\n"
     ]
    },
    {
     "data": {
      "application/vnd.jupyter.widget-view+json": {
       "model_id": "bbd64571645d4f499dd1f59077250203",
       "version_major": 2,
       "version_minor": 0
      },
      "text/plain": [
       "HBox(children=(FloatProgress(value=0.0, description='Progress', max=6046.0, style=ProgressStyle(description_wi…"
      ]
     },
     "metadata": {},
     "output_type": "display_data"
    },
    {
     "name": "stdout",
     "output_type": "stream",
     "text": [
      "\n",
      "****************************************************************************************************\n",
      "Dataset info:\n",
      "Number of Tweets: 6046\n",
      "****************************************************************************************************\n",
      "<class '__main__.StanceDataset'>\n",
      "<__main__.StanceDataset object at 0x7f90d87dc790>\n"
     ]
    }
   ],
   "source": [
    "train_ds = StanceDataset(train_df, w2v_model=model_fasttext)\n",
    "print(type(train_ds))\n",
    "print(train_ds)\n",
    "#vocab_size = len(train_ds.word2idx)"
   ]
  },
  {
   "cell_type": "markdown",
   "metadata": {},
   "source": [
    "### Validation dataset"
   ]
  },
  {
   "cell_type": "code",
   "execution_count": 10,
   "metadata": {
    "ExecuteTime": {
     "end_time": "2019-05-19T03:05:03.188691Z",
     "start_time": "2019-05-19T03:05:02.556382Z"
    }
   },
   "outputs": [
    {
     "name": "stdout",
     "output_type": "stream",
     "text": [
      "Processing Data\n",
      "Removing white space...\n"
     ]
    },
    {
     "data": {
      "application/vnd.jupyter.widget-view+json": {
       "model_id": "5ff91bddec24465f97805871fb7fcc32",
       "version_major": 2,
       "version_minor": 0
      },
      "text/plain": [
       "HBox(children=(FloatProgress(value=0.0, description='Progress', max=2015.0, style=ProgressStyle(description_wi…"
      ]
     },
     "metadata": {},
     "output_type": "display_data"
    },
    {
     "name": "stdout",
     "output_type": "stream",
     "text": [
      "\n",
      "****************************************************************************************************\n",
      "Dataset info:\n",
      "Number of Tweets: 2015\n",
      "****************************************************************************************************\n"
     ]
    }
   ],
   "source": [
    "val_ds = StanceDataset(val_df, w2v_model=model_fasttext)"
   ]
  },
  {
   "cell_type": "markdown",
   "metadata": {},
   "source": [
    "### Test dataset"
   ]
  },
  {
   "cell_type": "code",
   "execution_count": 11,
   "metadata": {},
   "outputs": [
    {
     "name": "stdout",
     "output_type": "stream",
     "text": [
      "Processing Data\n",
      "Removing white space...\n"
     ]
    },
    {
     "data": {
      "application/vnd.jupyter.widget-view+json": {
       "model_id": "3a13426c2a7c40ecbbc0868ee8930f9f",
       "version_major": 2,
       "version_minor": 0
      },
      "text/plain": [
       "HBox(children=(FloatProgress(value=0.0, description='Progress', max=2016.0, style=ProgressStyle(description_wi…"
      ]
     },
     "metadata": {},
     "output_type": "display_data"
    },
    {
     "name": "stdout",
     "output_type": "stream",
     "text": [
      "\n",
      "****************************************************************************************************\n",
      "Dataset info:\n",
      "Number of Tweets: 2016\n",
      "****************************************************************************************************\n"
     ]
    }
   ],
   "source": [
    "test_ds = StanceDataset(test_df, w2v_model=model_fasttext)"
   ]
  },
  {
   "cell_type": "markdown",
   "metadata": {},
   "source": [
    "## 2. Make batches through pytorch Dataloader"
   ]
  },
  {
   "cell_type": "code",
   "execution_count": 12,
   "metadata": {
    "ExecuteTime": {
     "end_time": "2019-05-19T03:05:03.192680Z",
     "start_time": "2019-05-19T03:05:03.189689Z"
    }
   },
   "outputs": [],
   "source": [
    "batch_size = 1024"
   ]
  },
  {
   "cell_type": "markdown",
   "metadata": {},
   "source": [
    "### Train dataloader"
   ]
  },
  {
   "cell_type": "code",
   "execution_count": 13,
   "metadata": {
    "ExecuteTime": {
     "end_time": "2019-05-19T03:05:03.382173Z",
     "start_time": "2019-05-19T03:05:03.276456Z"
    }
   },
   "outputs": [],
   "source": [
    "train_dl = DataLoader(train_ds, batch_size=1024, shuffle=True)\n",
    "#for batch in train_dl:\n",
    " #   x, y = batch\n",
    "  #  print(x)\n",
    "   # print(y)"
   ]
  },
  {
   "cell_type": "markdown",
   "metadata": {},
   "source": [
    "### Validation dataloader"
   ]
  },
  {
   "cell_type": "code",
   "execution_count": 14,
   "metadata": {
    "ExecuteTime": {
     "end_time": "2019-05-19T03:05:03.462957Z",
     "start_time": "2019-05-19T03:05:03.383171Z"
    }
   },
   "outputs": [
    {
     "name": "stdout",
     "output_type": "stream",
     "text": [
      "<torch.utils.data.dataloader.DataLoader object at 0x7f90d8809610>\n"
     ]
    }
   ],
   "source": [
    "val_dl = DataLoader(val_ds, batch_size=batch_size)\n",
    "print(val_dl)"
   ]
  },
  {
   "cell_type": "markdown",
   "metadata": {},
   "source": [
    "### Test dataloader"
   ]
  },
  {
   "cell_type": "code",
   "execution_count": 15,
   "metadata": {},
   "outputs": [],
   "source": [
    "test_dl = DataLoader(test_ds, batch_size=batch_size)"
   ]
  },
  {
   "cell_type": "markdown",
   "metadata": {},
   "source": [
    "## Linear model"
   ]
  },
  {
   "cell_type": "code",
   "execution_count": 16,
   "metadata": {},
   "outputs": [],
   "source": [
    "from torch.autograd import Variable\n",
    "\n",
    "class linearRegression(torch.nn.Module):\n",
    "    def __init__(self, inputSize, outputSize):\n",
    "        super(linearRegression, self).__init__()\n",
    "        self.emb_drop = nn.Dropout(0.3)\n",
    "        self.linear = torch.nn.Linear(inputSize, outputSize)\n",
    "\n",
    "    def forward(self, x):\n",
    "        #out = self.linear(x)\n",
    "        out = self.linear(self.emb_drop(x))\n",
    "        return out"
   ]
  },
  {
   "cell_type": "code",
   "execution_count": 17,
   "metadata": {},
   "outputs": [],
   "source": [
    "class MultiLinearRegression(torch.nn.Module):\n",
    "    def __init__(self, inputSize, outputSize, n_hidden):\n",
    "        super(MultiLinearRegression, self).__init__()\n",
    "        self.dropout = nn.Dropout(0.5)\n",
    "        self.linear1 = torch.nn.Linear(inputSize, n_hidden[0])\n",
    "        self.linear2 = torch.nn.Linear(n_hidden[0], n_hidden[1])\n",
    "        self.linear3 = torch.nn.Linear(n_hidden[1], outputSize)\n",
    "\n",
    "    def forward(self, x):\n",
    "        #out = self.linear(x)\n",
    "        #out = self.linear(self.emb_drop(x))\n",
    "        out1 = self.dropout(F.relu(self.linear1(x)))\n",
    "        out2 = self.linear2(F.relu(out1))\n",
    "        out = self.linear3(out2)\n",
    "        return out"
   ]
  },
  {
   "cell_type": "code",
   "execution_count": 18,
   "metadata": {
    "ExecuteTime": {
     "end_time": "2019-05-19T03:05:06.338269Z",
     "start_time": "2019-05-19T03:05:03.545736Z"
    }
   },
   "outputs": [],
   "source": [
    "embedding_dim = 300\n",
    "n_hidden = [256, 1024]\n",
    "n_out = 3\n",
    "learning_rate = 0.001\n",
    "\n",
    "model = MultiLinearRegression(embedding_dim, n_out, n_hidden).to(device)\n",
    "optimizer = optim.Adam(model.parameters(), lr=learning_rate)\n",
    "loss_fn = F.cross_entropy"
   ]
  },
  {
   "cell_type": "markdown",
   "metadata": {},
   "source": [
    "## 4. Ignite training callbacks"
   ]
  },
  {
   "cell_type": "markdown",
   "metadata": {},
   "source": [
    "*Ignite is all about callbacks.  \n",
    "Training and evaluation is defined separately.  \n",
    "You can define your single custom training and evaluator loop and add them to Engine.  \n",
    "Add loss and accuracy to the trainer and evaluator.\n",
    "Finally define early stopping and modelcheckpoint*"
   ]
  },
  {
   "cell_type": "markdown",
   "metadata": {
    "ExecuteTime": {
     "end_time": "2019-05-11T13:34:49.009451Z",
     "start_time": "2019-05-11T13:34:49.005462Z"
    }
   },
   "source": [
    "### Define single training and validation loop"
   ]
  },
  {
   "cell_type": "code",
   "execution_count": 19,
   "metadata": {
    "ExecuteTime": {
     "end_time": "2019-05-19T03:05:06.344252Z",
     "start_time": "2019-05-19T03:05:06.339266Z"
    }
   },
   "outputs": [],
   "source": [
    "def process_function(engine, batch):\n",
    "    \"\"\"Single training loop to be attached to trainer Engine\n",
    "    \"\"\"\n",
    "    model.train()\n",
    "    optimizer.zero_grad()\n",
    "    x, y = batch\n",
    "    x, y = x.to(device), y.to(device)\n",
    "    y_pred = model(x)\n",
    "    loss = loss_fn(y_pred, y)\n",
    "    loss.backward()\n",
    "    optimizer.step()\n",
    "    y_pred_lab = torch.argmax(y_pred, dim=1)\n",
    "    y_pred_one_hot = torch.zeros(y_pred.size()[0], 3)\n",
    "    y_one_hot = torch.zeros(y_pred.size()[0], 3)\n",
    "    y_pred_one_hot[torch.arange(y_pred.size()[0]), y_pred_lab] = 1\n",
    "    y_one_hot[torch.arange(y_pred.size()[0]), y] = 1\n",
    "    return loss.item(), y_pred_one_hot, y_one_hot\n",
    "\n",
    "\n",
    "def eval_function(engine, batch):\n",
    "    \"\"\"Single evaluator loop to be attached to trainer and evaluator Engine\n",
    "    \"\"\"\n",
    "    model.eval()\n",
    "    with torch.no_grad():\n",
    "        x, y = batch\n",
    "        x, y = x.to(device), y.to(device)\n",
    "        y_pred = model(x)\n",
    "        return y_pred, y\n",
    "    \n",
    "trainer = Engine(process_function)\n",
    "train_evaluator = Engine(eval_function)\n",
    "validation_evaluator = Engine(eval_function)"
   ]
  },
  {
   "cell_type": "markdown",
   "metadata": {},
   "source": [
    "### Add metrics (Loss and Accuracy) to the trainer and evaluator"
   ]
  },
  {
   "cell_type": "code",
   "execution_count": 20,
   "metadata": {
    "ExecuteTime": {
     "end_time": "2019-05-19T03:05:06.429026Z",
     "start_time": "2019-05-19T03:05:06.345250Z"
    }
   },
   "outputs": [],
   "source": [
    "def max_output_transform(output):\n",
    "    \"\"\"It convers the predicted ouput probabilties to indexes for accuracy calculation\n",
    "    \"\"\"\n",
    "    y_pred, y = output\n",
    "    #return torch.max(y_pred, dim=1)[1], y\n",
    "    y_pred_lab = torch.argmax(y_pred, dim=1)\n",
    "    y_pred_one_hot = torch.zeros(y_pred.size()[0], 3)\n",
    "    y_one_hot = torch.zeros(y_pred.size()[0], 3)\n",
    "    y_pred_one_hot[torch.arange(y_pred.size()[0]), y_pred_lab] = 1\n",
    "    y_one_hot[torch.arange(y_pred.size()[0]), y] = 1\n",
    "    return y_pred_one_hot, y_one_hot\n",
    "\n",
    "\n",
    "\n",
    "\n",
    "# attach running loss (will be displayed in progess bar)\n",
    "RunningAverage(output_transform=lambda x: x[0]).attach(trainer, 'loss')\n",
    "\n",
    "# attach running accuracy (will be displayed in progess bar)\n",
    "#RunningAverage(Accuracy(output_transform=lambda x: [x[1], x[2]])).attach(trainer, 'acc')\n",
    "RunningAverage(Accuracy(output_transform=lambda x: [x[1], x[2]], is_multilabel=True)).attach(trainer, 'acc')\n",
    "\n",
    "# attach accuracy and loss to train_evaluator\n",
    "Accuracy(output_transform=max_output_transform, is_multilabel=True).attach(train_evaluator, 'accuracy')\n",
    "Loss(loss_fn).attach(train_evaluator, 'ce')\n",
    "\n",
    "# attach accuracy and loss to validation_evaluator\n",
    "Accuracy(output_transform=max_output_transform, is_multilabel=True).attach(validation_evaluator, 'accuracy')\n",
    "Loss(loss_fn).attach(validation_evaluator, 'ce')"
   ]
  },
  {
   "cell_type": "markdown",
   "metadata": {},
   "source": [
    "### Report progress through tqdm progress bar"
   ]
  },
  {
   "cell_type": "code",
   "execution_count": 21,
   "metadata": {
    "ExecuteTime": {
     "end_time": "2019-05-19T03:05:06.513800Z",
     "start_time": "2019-05-19T03:05:06.431021Z"
    }
   },
   "outputs": [],
   "source": [
    "pbar = ProgressBar(persist=True, bar_format=\"\")\n",
    "pbar.attach(trainer, ['loss', 'acc'])"
   ]
  },
  {
   "cell_type": "markdown",
   "metadata": {},
   "source": [
    "### Log results after each epoch"
   ]
  },
  {
   "cell_type": "code",
   "execution_count": 22,
   "metadata": {
    "ExecuteTime": {
     "end_time": "2019-05-19T03:05:06.628494Z",
     "start_time": "2019-05-19T03:05:06.515795Z"
    }
   },
   "outputs": [],
   "source": [
    "@trainer.on(Events.EPOCH_COMPLETED)\n",
    "def log_training_results(engine):\n",
    "    \"\"\"This function will run after each epoch and \n",
    "       report the training loss and accuracy (defined above)\n",
    "    \"\"\"\n",
    "    train_evaluator.run(train_dl)\n",
    "    metrics = train_evaluator.state.metrics\n",
    "    avg_accuracy = metrics['accuracy']\n",
    "    avg_bce = metrics['ce']\n",
    "    pbar.log_message(\n",
    "        f'Training Results - Epoch: {engine.state.epoch}  Avg accuracy: {avg_accuracy:.4f} Avg loss: {avg_bce:.4f}')\n",
    "    \n",
    "@trainer.on(Events.EPOCH_COMPLETED)\n",
    "def log_validation_results(engine):\n",
    "    \"\"\"This function will run after each epoch and \n",
    "       report the validation loss and accuracy (defined above)\n",
    "    \"\"\"\n",
    "    validation_evaluator.run(val_dl)\n",
    "    metrics = validation_evaluator.state.metrics\n",
    "    avg_accuracy = metrics['accuracy']\n",
    "    avg_bce = metrics['ce']\n",
    "    pbar.log_message(\n",
    "        f'Validation Results - Epoch: {engine.state.epoch}  Avg accuracy: {avg_accuracy:.4f} Avg loss: {avg_bce:.4f}')\n",
    "    pbar.n = pbar.last_print_n = 0"
   ]
  },
  {
   "cell_type": "markdown",
   "metadata": {},
   "source": [
    "### Callback for Early stopping and ModelCheckpoint"
   ]
  },
  {
   "cell_type": "code",
   "execution_count": 23,
   "metadata": {
    "ExecuteTime": {
     "end_time": "2019-05-19T03:05:06.737203Z",
     "start_time": "2019-05-19T03:05:06.633481Z"
    }
   },
   "outputs": [
    {
     "data": {
      "text/plain": [
       "<ignite.engine.engine.RemovableEventHandle at 0x7f8f2b10c4d0>"
      ]
     },
     "execution_count": 23,
     "metadata": {},
     "output_type": "execute_result"
    },
    {
     "data": {
      "text/plain": [
       "<ignite.engine.engine.RemovableEventHandle at 0x7f8f2b520350>"
      ]
     },
     "execution_count": 23,
     "metadata": {},
     "output_type": "execute_result"
    }
   ],
   "source": [
    "def score_function(engine):\n",
    "    \"\"\"EarlyStopping will call this function to check if score improved\n",
    "    \"\"\"\n",
    "    val_loss = engine.state.metrics['ce']\n",
    "    return -val_loss\n",
    "\n",
    "early_stopping = EarlyStopping(patience=3, score_function=score_function, trainer=trainer)\n",
    "validation_evaluator.add_event_handler(Events.COMPLETED, early_stopping)\n",
    "\n",
    "checkpointer = ModelCheckpoint(\n",
    "    './models', \n",
    "    'text_gru_concat', \n",
    "    save_interval=1, \n",
    "    n_saved=1, \n",
    "    create_dir=True, \n",
    "    save_as_state_dict=True,\n",
    "    require_empty=False\n",
    ")\n",
    "\n",
    "trainer.add_event_handler(Events.EPOCH_COMPLETED, checkpointer, {'stance': model})"
   ]
  },
  {
   "cell_type": "markdown",
   "metadata": {},
   "source": [
    "## Train the model"
   ]
  },
  {
   "cell_type": "code",
   "execution_count": 24,
   "metadata": {
    "ExecuteTime": {
     "end_time": "2019-05-19T06:06:42.984934Z",
     "start_time": "2019-05-19T03:05:06.742190Z"
    },
    "scrolled": false
   },
   "outputs": [
    {
     "name": "stderr",
     "output_type": "stream",
     "text": [
      "2020-01-22 20:54:24,256 : INFO : Engine run starting with max_epochs=100.\n"
     ]
    },
    {
     "data": {
      "application/vnd.jupyter.widget-view+json": {
       "model_id": "1b473f020a3c4d22a62825563bca56ab",
       "version_major": 2,
       "version_minor": 0
      },
      "text/plain": [
       "HBox(children=(FloatProgress(value=0.0, max=6.0), HTML(value='')))"
      ]
     },
     "metadata": {},
     "output_type": "display_data"
    },
    {
     "name": "stderr",
     "output_type": "stream",
     "text": [
      "2020-01-22 20:54:27,082 : INFO : Epoch[1] Complete. Time taken: 00:00:02\n",
      "2020-01-22 20:54:27,085 : INFO : Engine run starting with max_epochs=1.\n"
     ]
    },
    {
     "name": "stdout",
     "output_type": "stream",
     "text": [
      "\n"
     ]
    },
    {
     "name": "stderr",
     "output_type": "stream",
     "text": [
      "2020-01-22 20:54:29,588 : INFO : Epoch[1] Complete. Time taken: 00:00:02\n",
      "2020-01-22 20:54:29,589 : INFO : Engine run complete. Time taken 00:00:02\n",
      "2020-01-22 20:54:29,589 : INFO : Engine run starting with max_epochs=1.\n"
     ]
    },
    {
     "name": "stdout",
     "output_type": "stream",
     "text": [
      "Training Results - Epoch: 1  Avg accuracy: 0.4160 Avg loss: 1.0131\n"
     ]
    },
    {
     "name": "stderr",
     "output_type": "stream",
     "text": [
      "2020-01-22 20:54:30,532 : INFO : Epoch[1] Complete. Time taken: 00:00:00\n",
      "2020-01-22 20:54:30,533 : INFO : Engine run complete. Time taken 00:00:00\n"
     ]
    },
    {
     "name": "stdout",
     "output_type": "stream",
     "text": [
      "Validation Results - Epoch: 1  Avg accuracy: 0.3881 Avg loss: 1.0252\n"
     ]
    },
    {
     "data": {
      "application/vnd.jupyter.widget-view+json": {
       "model_id": "e6a11f9d9e014569ae67abe3c7c81b17",
       "version_major": 2,
       "version_minor": 0
      },
      "text/plain": [
       "HBox(children=(FloatProgress(value=0.0, max=6.0), HTML(value='')))"
      ]
     },
     "metadata": {},
     "output_type": "display_data"
    },
    {
     "name": "stderr",
     "output_type": "stream",
     "text": [
      "2020-01-22 20:54:33,088 : INFO : Epoch[2] Complete. Time taken: 00:00:02\n",
      "2020-01-22 20:54:33,091 : INFO : Engine run starting with max_epochs=1.\n"
     ]
    },
    {
     "name": "stdout",
     "output_type": "stream",
     "text": [
      "\n"
     ]
    },
    {
     "name": "stderr",
     "output_type": "stream",
     "text": [
      "2020-01-22 20:54:35,540 : INFO : Epoch[1] Complete. Time taken: 00:00:02\n",
      "2020-01-22 20:54:35,541 : INFO : Engine run complete. Time taken 00:00:02\n",
      "2020-01-22 20:54:35,541 : INFO : Engine run starting with max_epochs=1.\n"
     ]
    },
    {
     "name": "stdout",
     "output_type": "stream",
     "text": [
      "Training Results - Epoch: 2  Avg accuracy: 0.5003 Avg loss: 0.9480\n"
     ]
    },
    {
     "name": "stderr",
     "output_type": "stream",
     "text": [
      "2020-01-22 20:54:36,388 : INFO : Epoch[1] Complete. Time taken: 00:00:00\n",
      "2020-01-22 20:54:36,389 : INFO : Engine run complete. Time taken 00:00:00\n"
     ]
    },
    {
     "name": "stdout",
     "output_type": "stream",
     "text": [
      "Validation Results - Epoch: 2  Avg accuracy: 0.5072 Avg loss: 0.9648\n"
     ]
    },
    {
     "data": {
      "application/vnd.jupyter.widget-view+json": {
       "model_id": "026f012136f94ce88c9faf8809ccf486",
       "version_major": 2,
       "version_minor": 0
      },
      "text/plain": [
       "HBox(children=(FloatProgress(value=0.0, max=6.0), HTML(value='')))"
      ]
     },
     "metadata": {},
     "output_type": "display_data"
    },
    {
     "name": "stderr",
     "output_type": "stream",
     "text": [
      "2020-01-22 20:54:39,099 : INFO : Epoch[3] Complete. Time taken: 00:00:02\n",
      "2020-01-22 20:54:39,104 : INFO : Engine run starting with max_epochs=1.\n"
     ]
    },
    {
     "name": "stdout",
     "output_type": "stream",
     "text": [
      "\n"
     ]
    },
    {
     "name": "stderr",
     "output_type": "stream",
     "text": [
      "2020-01-22 20:54:41,672 : INFO : Epoch[1] Complete. Time taken: 00:00:02\n",
      "2020-01-22 20:54:41,673 : INFO : Engine run complete. Time taken 00:00:02\n",
      "2020-01-22 20:54:41,673 : INFO : Engine run starting with max_epochs=1.\n"
     ]
    },
    {
     "name": "stdout",
     "output_type": "stream",
     "text": [
      "Training Results - Epoch: 3  Avg accuracy: 0.5251 Avg loss: 0.8902\n"
     ]
    },
    {
     "name": "stderr",
     "output_type": "stream",
     "text": [
      "2020-01-22 20:54:42,588 : INFO : Epoch[1] Complete. Time taken: 00:00:00\n",
      "2020-01-22 20:54:42,589 : INFO : Engine run complete. Time taken 00:00:00\n"
     ]
    },
    {
     "name": "stdout",
     "output_type": "stream",
     "text": [
      "Validation Results - Epoch: 3  Avg accuracy: 0.4864 Avg loss: 0.9152\n"
     ]
    },
    {
     "data": {
      "application/vnd.jupyter.widget-view+json": {
       "model_id": "6234eb3cd0fd43fdbe7ff3b3d6e3f920",
       "version_major": 2,
       "version_minor": 0
      },
      "text/plain": [
       "HBox(children=(FloatProgress(value=0.0, max=6.0), HTML(value='')))"
      ]
     },
     "metadata": {},
     "output_type": "display_data"
    },
    {
     "name": "stderr",
     "output_type": "stream",
     "text": [
      "2020-01-22 20:54:45,271 : INFO : Epoch[4] Complete. Time taken: 00:00:02\n",
      "2020-01-22 20:54:45,272 : INFO : Engine run starting with max_epochs=1.\n"
     ]
    },
    {
     "name": "stdout",
     "output_type": "stream",
     "text": [
      "\n"
     ]
    },
    {
     "name": "stderr",
     "output_type": "stream",
     "text": [
      "2020-01-22 20:54:47,780 : INFO : Epoch[1] Complete. Time taken: 00:00:02\n",
      "2020-01-22 20:54:47,781 : INFO : Engine run complete. Time taken 00:00:02\n",
      "2020-01-22 20:54:47,781 : INFO : Engine run starting with max_epochs=1.\n"
     ]
    },
    {
     "name": "stdout",
     "output_type": "stream",
     "text": [
      "Training Results - Epoch: 4  Avg accuracy: 0.5407 Avg loss: 0.8710\n"
     ]
    },
    {
     "name": "stderr",
     "output_type": "stream",
     "text": [
      "2020-01-22 20:54:48,604 : INFO : Epoch[1] Complete. Time taken: 00:00:00\n",
      "2020-01-22 20:54:48,604 : INFO : Engine run complete. Time taken 00:00:00\n"
     ]
    },
    {
     "name": "stdout",
     "output_type": "stream",
     "text": [
      "Validation Results - Epoch: 4  Avg accuracy: 0.5186 Avg loss: 0.9010\n"
     ]
    },
    {
     "data": {
      "application/vnd.jupyter.widget-view+json": {
       "model_id": "41ac63f2397b4d65b6c72382da457880",
       "version_major": 2,
       "version_minor": 0
      },
      "text/plain": [
       "HBox(children=(FloatProgress(value=0.0, max=6.0), HTML(value='')))"
      ]
     },
     "metadata": {},
     "output_type": "display_data"
    },
    {
     "name": "stderr",
     "output_type": "stream",
     "text": [
      "2020-01-22 20:54:51,200 : INFO : Epoch[5] Complete. Time taken: 00:00:02\n",
      "2020-01-22 20:54:51,208 : INFO : Engine run starting with max_epochs=1.\n"
     ]
    },
    {
     "name": "stdout",
     "output_type": "stream",
     "text": [
      "\n"
     ]
    },
    {
     "name": "stderr",
     "output_type": "stream",
     "text": [
      "2020-01-22 20:54:53,804 : INFO : Epoch[1] Complete. Time taken: 00:00:02\n",
      "2020-01-22 20:54:53,805 : INFO : Engine run complete. Time taken 00:00:02\n",
      "2020-01-22 20:54:53,805 : INFO : Engine run starting with max_epochs=1.\n"
     ]
    },
    {
     "name": "stdout",
     "output_type": "stream",
     "text": [
      "Training Results - Epoch: 5  Avg accuracy: 0.5422 Avg loss: 0.8576\n"
     ]
    },
    {
     "name": "stderr",
     "output_type": "stream",
     "text": [
      "2020-01-22 20:54:54,741 : INFO : Epoch[1] Complete. Time taken: 00:00:00\n",
      "2020-01-22 20:54:54,741 : INFO : Engine run complete. Time taken 00:00:00\n"
     ]
    },
    {
     "name": "stdout",
     "output_type": "stream",
     "text": [
      "Validation Results - Epoch: 5  Avg accuracy: 0.5261 Avg loss: 0.8893\n"
     ]
    },
    {
     "data": {
      "application/vnd.jupyter.widget-view+json": {
       "model_id": "12728a6ce5e74dc5a7c9c9b9e8931597",
       "version_major": 2,
       "version_minor": 0
      },
      "text/plain": [
       "HBox(children=(FloatProgress(value=0.0, max=6.0), HTML(value='')))"
      ]
     },
     "metadata": {},
     "output_type": "display_data"
    },
    {
     "name": "stderr",
     "output_type": "stream",
     "text": [
      "2020-01-22 20:54:57,589 : INFO : Epoch[6] Complete. Time taken: 00:00:02\n",
      "2020-01-22 20:54:57,591 : INFO : Engine run starting with max_epochs=1.\n"
     ]
    },
    {
     "name": "stdout",
     "output_type": "stream",
     "text": [
      "\n"
     ]
    },
    {
     "name": "stderr",
     "output_type": "stream",
     "text": [
      "2020-01-22 20:55:00,437 : INFO : Epoch[1] Complete. Time taken: 00:00:02\n",
      "2020-01-22 20:55:00,438 : INFO : Engine run complete. Time taken 00:00:02\n",
      "2020-01-22 20:55:00,439 : INFO : Engine run starting with max_epochs=1.\n"
     ]
    },
    {
     "name": "stdout",
     "output_type": "stream",
     "text": [
      "Training Results - Epoch: 6  Avg accuracy: 0.5582 Avg loss: 0.8446\n"
     ]
    },
    {
     "name": "stderr",
     "output_type": "stream",
     "text": [
      "2020-01-22 20:55:01,321 : INFO : Epoch[1] Complete. Time taken: 00:00:00\n",
      "2020-01-22 20:55:01,322 : INFO : Engine run complete. Time taken 00:00:00\n"
     ]
    },
    {
     "name": "stdout",
     "output_type": "stream",
     "text": [
      "Validation Results - Epoch: 6  Avg accuracy: 0.5419 Avg loss: 0.8759\n"
     ]
    },
    {
     "data": {
      "application/vnd.jupyter.widget-view+json": {
       "model_id": "bcd95ccc5650466d81219edbf1287056",
       "version_major": 2,
       "version_minor": 0
      },
      "text/plain": [
       "HBox(children=(FloatProgress(value=0.0, max=6.0), HTML(value='')))"
      ]
     },
     "metadata": {},
     "output_type": "display_data"
    },
    {
     "name": "stderr",
     "output_type": "stream",
     "text": [
      "2020-01-22 20:55:04,092 : INFO : Epoch[7] Complete. Time taken: 00:00:02\n",
      "2020-01-22 20:55:04,096 : INFO : Engine run starting with max_epochs=1.\n"
     ]
    },
    {
     "name": "stdout",
     "output_type": "stream",
     "text": [
      "\n"
     ]
    },
    {
     "name": "stderr",
     "output_type": "stream",
     "text": [
      "2020-01-22 20:55:06,524 : INFO : Epoch[1] Complete. Time taken: 00:00:02\n",
      "2020-01-22 20:55:06,525 : INFO : Engine run complete. Time taken 00:00:02\n",
      "2020-01-22 20:55:06,525 : INFO : Engine run starting with max_epochs=1.\n"
     ]
    },
    {
     "name": "stdout",
     "output_type": "stream",
     "text": [
      "Training Results - Epoch: 7  Avg accuracy: 0.5445 Avg loss: 0.8380\n"
     ]
    },
    {
     "name": "stderr",
     "output_type": "stream",
     "text": [
      "2020-01-22 20:55:07,313 : INFO : Epoch[1] Complete. Time taken: 00:00:00\n",
      "2020-01-22 20:55:07,313 : INFO : Engine run complete. Time taken 00:00:00\n"
     ]
    },
    {
     "name": "stdout",
     "output_type": "stream",
     "text": [
      "Validation Results - Epoch: 7  Avg accuracy: 0.5007 Avg loss: 0.8758\n"
     ]
    },
    {
     "data": {
      "application/vnd.jupyter.widget-view+json": {
       "model_id": "156fa9d3f6054c45824ad9ed70e65c7c",
       "version_major": 2,
       "version_minor": 0
      },
      "text/plain": [
       "HBox(children=(FloatProgress(value=0.0, max=6.0), HTML(value='')))"
      ]
     },
     "metadata": {},
     "output_type": "display_data"
    },
    {
     "name": "stderr",
     "output_type": "stream",
     "text": [
      "2020-01-22 20:55:09,922 : INFO : Epoch[8] Complete. Time taken: 00:00:02\n",
      "2020-01-22 20:55:09,924 : INFO : Engine run starting with max_epochs=1.\n"
     ]
    },
    {
     "name": "stdout",
     "output_type": "stream",
     "text": [
      "\n"
     ]
    },
    {
     "name": "stderr",
     "output_type": "stream",
     "text": [
      "2020-01-22 20:55:12,464 : INFO : Epoch[1] Complete. Time taken: 00:00:02\n",
      "2020-01-22 20:55:12,464 : INFO : Engine run complete. Time taken 00:00:02\n",
      "2020-01-22 20:55:12,465 : INFO : Engine run starting with max_epochs=1.\n"
     ]
    },
    {
     "name": "stdout",
     "output_type": "stream",
     "text": [
      "Training Results - Epoch: 8  Avg accuracy: 0.5572 Avg loss: 0.8290\n"
     ]
    },
    {
     "name": "stderr",
     "output_type": "stream",
     "text": [
      "2020-01-22 20:55:13,258 : INFO : Epoch[1] Complete. Time taken: 00:00:00\n",
      "2020-01-22 20:55:13,259 : INFO : Engine run complete. Time taken 00:00:00\n"
     ]
    },
    {
     "name": "stdout",
     "output_type": "stream",
     "text": [
      "Validation Results - Epoch: 8  Avg accuracy: 0.5404 Avg loss: 0.8638\n"
     ]
    },
    {
     "data": {
      "application/vnd.jupyter.widget-view+json": {
       "model_id": "12cc679cb0db4224b05b039edd872f6e",
       "version_major": 2,
       "version_minor": 0
      },
      "text/plain": [
       "HBox(children=(FloatProgress(value=0.0, max=6.0), HTML(value='')))"
      ]
     },
     "metadata": {},
     "output_type": "display_data"
    },
    {
     "name": "stderr",
     "output_type": "stream",
     "text": [
      "2020-01-22 20:55:15,922 : INFO : Epoch[9] Complete. Time taken: 00:00:02\n",
      "2020-01-22 20:55:15,926 : INFO : Engine run starting with max_epochs=1.\n"
     ]
    },
    {
     "name": "stdout",
     "output_type": "stream",
     "text": [
      "\n"
     ]
    },
    {
     "name": "stderr",
     "output_type": "stream",
     "text": [
      "2020-01-22 20:55:18,507 : INFO : Epoch[1] Complete. Time taken: 00:00:02\n",
      "2020-01-22 20:55:18,508 : INFO : Engine run complete. Time taken 00:00:02\n",
      "2020-01-22 20:55:18,509 : INFO : Engine run starting with max_epochs=1.\n"
     ]
    },
    {
     "name": "stdout",
     "output_type": "stream",
     "text": [
      "Training Results - Epoch: 9  Avg accuracy: 0.5665 Avg loss: 0.8170\n"
     ]
    },
    {
     "name": "stderr",
     "output_type": "stream",
     "text": [
      "2020-01-22 20:55:19,342 : INFO : Epoch[1] Complete. Time taken: 00:00:00\n",
      "2020-01-22 20:55:19,343 : INFO : Engine run complete. Time taken 00:00:00\n"
     ]
    },
    {
     "name": "stdout",
     "output_type": "stream",
     "text": [
      "Validation Results - Epoch: 9  Avg accuracy: 0.5479 Avg loss: 0.8596\n"
     ]
    },
    {
     "data": {
      "application/vnd.jupyter.widget-view+json": {
       "model_id": "f0aa21a6ee114c0b9fe2ad71fe21adaa",
       "version_major": 2,
       "version_minor": 0
      },
      "text/plain": [
       "HBox(children=(FloatProgress(value=0.0, max=6.0), HTML(value='')))"
      ]
     },
     "metadata": {},
     "output_type": "display_data"
    },
    {
     "name": "stderr",
     "output_type": "stream",
     "text": [
      "2020-01-22 20:55:22,140 : INFO : Epoch[10] Complete. Time taken: 00:00:02\n",
      "2020-01-22 20:55:22,142 : INFO : Engine run starting with max_epochs=1.\n"
     ]
    },
    {
     "name": "stdout",
     "output_type": "stream",
     "text": [
      "\n"
     ]
    },
    {
     "name": "stderr",
     "output_type": "stream",
     "text": [
      "2020-01-22 20:55:24,548 : INFO : Epoch[1] Complete. Time taken: 00:00:02\n",
      "2020-01-22 20:55:24,549 : INFO : Engine run complete. Time taken 00:00:02\n",
      "2020-01-22 20:55:24,549 : INFO : Engine run starting with max_epochs=1.\n"
     ]
    },
    {
     "name": "stdout",
     "output_type": "stream",
     "text": [
      "Training Results - Epoch: 10  Avg accuracy: 0.5721 Avg loss: 0.8092\n"
     ]
    },
    {
     "name": "stderr",
     "output_type": "stream",
     "text": [
      "2020-01-22 20:55:25,332 : INFO : Epoch[1] Complete. Time taken: 00:00:00\n",
      "2020-01-22 20:55:25,332 : INFO : Engine run complete. Time taken 00:00:00\n"
     ]
    },
    {
     "name": "stdout",
     "output_type": "stream",
     "text": [
      "Validation Results - Epoch: 10  Avg accuracy: 0.5330 Avg loss: 0.8533\n"
     ]
    },
    {
     "data": {
      "application/vnd.jupyter.widget-view+json": {
       "model_id": "1c5be6a3233d463cb6be65e77281c6a3",
       "version_major": 2,
       "version_minor": 0
      },
      "text/plain": [
       "HBox(children=(FloatProgress(value=0.0, max=6.0), HTML(value='')))"
      ]
     },
     "metadata": {},
     "output_type": "display_data"
    },
    {
     "name": "stderr",
     "output_type": "stream",
     "text": [
      "2020-01-22 20:55:27,927 : INFO : Epoch[11] Complete. Time taken: 00:00:02\n",
      "2020-01-22 20:55:27,932 : INFO : Engine run starting with max_epochs=1.\n"
     ]
    },
    {
     "name": "stdout",
     "output_type": "stream",
     "text": [
      "\n"
     ]
    },
    {
     "name": "stderr",
     "output_type": "stream",
     "text": [
      "2020-01-22 20:55:30,446 : INFO : Epoch[1] Complete. Time taken: 00:00:02\n",
      "2020-01-22 20:55:30,447 : INFO : Engine run complete. Time taken 00:00:02\n",
      "2020-01-22 20:55:30,447 : INFO : Engine run starting with max_epochs=1.\n"
     ]
    },
    {
     "name": "stdout",
     "output_type": "stream",
     "text": [
      "Training Results - Epoch: 11  Avg accuracy: 0.5887 Avg loss: 0.7996\n"
     ]
    },
    {
     "name": "stderr",
     "output_type": "stream",
     "text": [
      "2020-01-22 20:55:31,239 : INFO : Epoch[1] Complete. Time taken: 00:00:00\n",
      "2020-01-22 20:55:31,239 : INFO : Engine run complete. Time taken 00:00:00\n"
     ]
    },
    {
     "name": "stdout",
     "output_type": "stream",
     "text": [
      "Validation Results - Epoch: 11  Avg accuracy: 0.5598 Avg loss: 0.8426\n"
     ]
    },
    {
     "data": {
      "application/vnd.jupyter.widget-view+json": {
       "model_id": "a8e0e15f24be4841aaf445380928c38b",
       "version_major": 2,
       "version_minor": 0
      },
      "text/plain": [
       "HBox(children=(FloatProgress(value=0.0, max=6.0), HTML(value='')))"
      ]
     },
     "metadata": {},
     "output_type": "display_data"
    },
    {
     "name": "stderr",
     "output_type": "stream",
     "text": [
      "2020-01-22 20:55:33,773 : INFO : Epoch[12] Complete. Time taken: 00:00:02\n",
      "2020-01-22 20:55:33,774 : INFO : Engine run starting with max_epochs=1.\n"
     ]
    },
    {
     "name": "stdout",
     "output_type": "stream",
     "text": [
      "\n"
     ]
    },
    {
     "name": "stderr",
     "output_type": "stream",
     "text": [
      "2020-01-22 20:55:36,177 : INFO : Epoch[1] Complete. Time taken: 00:00:02\n",
      "2020-01-22 20:55:36,178 : INFO : Engine run complete. Time taken 00:00:02\n",
      "2020-01-22 20:55:36,178 : INFO : Engine run starting with max_epochs=1.\n"
     ]
    },
    {
     "name": "stdout",
     "output_type": "stream",
     "text": [
      "Training Results - Epoch: 12  Avg accuracy: 0.5911 Avg loss: 0.7922\n"
     ]
    },
    {
     "name": "stderr",
     "output_type": "stream",
     "text": [
      "2020-01-22 20:55:36,985 : INFO : Epoch[1] Complete. Time taken: 00:00:00\n",
      "2020-01-22 20:55:36,986 : INFO : Engine run complete. Time taken 00:00:00\n"
     ]
    },
    {
     "name": "stdout",
     "output_type": "stream",
     "text": [
      "Validation Results - Epoch: 12  Avg accuracy: 0.5558 Avg loss: 0.8438\n"
     ]
    },
    {
     "data": {
      "application/vnd.jupyter.widget-view+json": {
       "model_id": "dab094a0801e49f7bf35ad03a4238336",
       "version_major": 2,
       "version_minor": 0
      },
      "text/plain": [
       "HBox(children=(FloatProgress(value=0.0, max=6.0), HTML(value='')))"
      ]
     },
     "metadata": {},
     "output_type": "display_data"
    },
    {
     "name": "stderr",
     "output_type": "stream",
     "text": [
      "2020-01-22 20:55:39,583 : INFO : Epoch[13] Complete. Time taken: 00:00:02\n",
      "2020-01-22 20:55:39,584 : INFO : Engine run starting with max_epochs=1.\n"
     ]
    },
    {
     "name": "stdout",
     "output_type": "stream",
     "text": [
      "\n"
     ]
    },
    {
     "name": "stderr",
     "output_type": "stream",
     "text": [
      "2020-01-22 20:55:42,366 : INFO : Epoch[1] Complete. Time taken: 00:00:02\n",
      "2020-01-22 20:55:42,367 : INFO : Engine run complete. Time taken 00:00:02\n",
      "2020-01-22 20:55:42,367 : INFO : Engine run starting with max_epochs=1.\n"
     ]
    },
    {
     "name": "stdout",
     "output_type": "stream",
     "text": [
      "Training Results - Epoch: 13  Avg accuracy: 0.6019 Avg loss: 0.7810\n"
     ]
    },
    {
     "name": "stderr",
     "output_type": "stream",
     "text": [
      "2020-01-22 20:55:43,288 : INFO : Epoch[1] Complete. Time taken: 00:00:00\n",
      "2020-01-22 20:55:43,289 : INFO : Engine run complete. Time taken 00:00:00\n"
     ]
    },
    {
     "name": "stdout",
     "output_type": "stream",
     "text": [
      "Validation Results - Epoch: 13  Avg accuracy: 0.5583 Avg loss: 0.8319\n"
     ]
    },
    {
     "data": {
      "application/vnd.jupyter.widget-view+json": {
       "model_id": "e07e42042f134e7fa0102e62777bbe23",
       "version_major": 2,
       "version_minor": 0
      },
      "text/plain": [
       "HBox(children=(FloatProgress(value=0.0, max=6.0), HTML(value='')))"
      ]
     },
     "metadata": {},
     "output_type": "display_data"
    },
    {
     "name": "stderr",
     "output_type": "stream",
     "text": [
      "2020-01-22 20:55:45,982 : INFO : Epoch[14] Complete. Time taken: 00:00:02\n",
      "2020-01-22 20:55:45,992 : INFO : Engine run starting with max_epochs=1.\n"
     ]
    },
    {
     "name": "stdout",
     "output_type": "stream",
     "text": [
      "\n"
     ]
    },
    {
     "name": "stderr",
     "output_type": "stream",
     "text": [
      "2020-01-22 20:55:48,381 : INFO : Epoch[1] Complete. Time taken: 00:00:02\n",
      "2020-01-22 20:55:48,382 : INFO : Engine run complete. Time taken 00:00:02\n",
      "2020-01-22 20:55:48,382 : INFO : Engine run starting with max_epochs=1.\n"
     ]
    },
    {
     "name": "stdout",
     "output_type": "stream",
     "text": [
      "Training Results - Epoch: 14  Avg accuracy: 0.6059 Avg loss: 0.7732\n"
     ]
    },
    {
     "name": "stderr",
     "output_type": "stream",
     "text": [
      "2020-01-22 20:55:49,229 : INFO : Epoch[1] Complete. Time taken: 00:00:00\n",
      "2020-01-22 20:55:49,230 : INFO : Engine run complete. Time taken 00:00:00\n"
     ]
    },
    {
     "name": "stdout",
     "output_type": "stream",
     "text": [
      "Validation Results - Epoch: 14  Avg accuracy: 0.5623 Avg loss: 0.8300\n"
     ]
    },
    {
     "data": {
      "application/vnd.jupyter.widget-view+json": {
       "model_id": "a24d8f2539ba4b888e4aae3520c89678",
       "version_major": 2,
       "version_minor": 0
      },
      "text/plain": [
       "HBox(children=(FloatProgress(value=0.0, max=6.0), HTML(value='')))"
      ]
     },
     "metadata": {},
     "output_type": "display_data"
    },
    {
     "name": "stderr",
     "output_type": "stream",
     "text": [
      "2020-01-22 20:55:51,862 : INFO : Epoch[15] Complete. Time taken: 00:00:02\n",
      "2020-01-22 20:55:51,867 : INFO : Engine run starting with max_epochs=1.\n"
     ]
    },
    {
     "name": "stdout",
     "output_type": "stream",
     "text": [
      "\n"
     ]
    },
    {
     "name": "stderr",
     "output_type": "stream",
     "text": [
      "2020-01-22 20:55:54,397 : INFO : Epoch[1] Complete. Time taken: 00:00:02\n",
      "2020-01-22 20:55:54,397 : INFO : Engine run complete. Time taken 00:00:02\n",
      "2020-01-22 20:55:54,398 : INFO : Engine run starting with max_epochs=1.\n"
     ]
    },
    {
     "name": "stdout",
     "output_type": "stream",
     "text": [
      "Training Results - Epoch: 15  Avg accuracy: 0.6115 Avg loss: 0.7672\n"
     ]
    },
    {
     "name": "stderr",
     "output_type": "stream",
     "text": [
      "2020-01-22 20:55:55,287 : INFO : Epoch[1] Complete. Time taken: 00:00:00\n",
      "2020-01-22 20:55:55,288 : INFO : Engine run complete. Time taken 00:00:00\n"
     ]
    },
    {
     "name": "stdout",
     "output_type": "stream",
     "text": [
      "Validation Results - Epoch: 15  Avg accuracy: 0.5608 Avg loss: 0.8248\n"
     ]
    },
    {
     "data": {
      "application/vnd.jupyter.widget-view+json": {
       "model_id": "c0950452f4754879867aa432e62f065d",
       "version_major": 2,
       "version_minor": 0
      },
      "text/plain": [
       "HBox(children=(FloatProgress(value=0.0, max=6.0), HTML(value='')))"
      ]
     },
     "metadata": {},
     "output_type": "display_data"
    },
    {
     "name": "stderr",
     "output_type": "stream",
     "text": [
      "2020-01-22 20:55:58,067 : INFO : Epoch[16] Complete. Time taken: 00:00:02\n",
      "2020-01-22 20:55:58,071 : INFO : Engine run starting with max_epochs=1.\n"
     ]
    },
    {
     "name": "stdout",
     "output_type": "stream",
     "text": [
      "\n"
     ]
    },
    {
     "name": "stderr",
     "output_type": "stream",
     "text": [
      "2020-01-22 20:56:00,464 : INFO : Epoch[1] Complete. Time taken: 00:00:02\n",
      "2020-01-22 20:56:00,465 : INFO : Engine run complete. Time taken 00:00:02\n",
      "2020-01-22 20:56:00,466 : INFO : Engine run starting with max_epochs=1.\n"
     ]
    },
    {
     "name": "stdout",
     "output_type": "stream",
     "text": [
      "Training Results - Epoch: 16  Avg accuracy: 0.6239 Avg loss: 0.7605\n"
     ]
    },
    {
     "name": "stderr",
     "output_type": "stream",
     "text": [
      "2020-01-22 20:56:01,276 : INFO : Epoch[1] Complete. Time taken: 00:00:00\n",
      "2020-01-22 20:56:01,277 : INFO : Engine run complete. Time taken 00:00:00\n"
     ]
    },
    {
     "name": "stdout",
     "output_type": "stream",
     "text": [
      "Validation Results - Epoch: 16  Avg accuracy: 0.5667 Avg loss: 0.8202\n"
     ]
    },
    {
     "data": {
      "application/vnd.jupyter.widget-view+json": {
       "model_id": "c1d1656b78d647a0ae1f0125d51deaa5",
       "version_major": 2,
       "version_minor": 0
      },
      "text/plain": [
       "HBox(children=(FloatProgress(value=0.0, max=6.0), HTML(value='')))"
      ]
     },
     "metadata": {},
     "output_type": "display_data"
    },
    {
     "name": "stderr",
     "output_type": "stream",
     "text": [
      "2020-01-22 20:56:03,808 : INFO : Epoch[17] Complete. Time taken: 00:00:02\n",
      "2020-01-22 20:56:03,811 : INFO : Engine run starting with max_epochs=1.\n"
     ]
    },
    {
     "name": "stdout",
     "output_type": "stream",
     "text": [
      "\n"
     ]
    },
    {
     "name": "stderr",
     "output_type": "stream",
     "text": [
      "2020-01-22 20:56:06,287 : INFO : Epoch[1] Complete. Time taken: 00:00:02\n",
      "2020-01-22 20:56:06,287 : INFO : Engine run complete. Time taken 00:00:02\n",
      "2020-01-22 20:56:06,288 : INFO : Engine run starting with max_epochs=1.\n"
     ]
    },
    {
     "name": "stdout",
     "output_type": "stream",
     "text": [
      "Training Results - Epoch: 17  Avg accuracy: 0.6179 Avg loss: 0.7540\n"
     ]
    },
    {
     "name": "stderr",
     "output_type": "stream",
     "text": [
      "2020-01-22 20:56:07,121 : INFO : Epoch[1] Complete. Time taken: 00:00:00\n",
      "2020-01-22 20:56:07,121 : INFO : Engine run complete. Time taken 00:00:00\n"
     ]
    },
    {
     "name": "stdout",
     "output_type": "stream",
     "text": [
      "Validation Results - Epoch: 17  Avg accuracy: 0.5648 Avg loss: 0.8211\n"
     ]
    },
    {
     "data": {
      "application/vnd.jupyter.widget-view+json": {
       "model_id": "4af0c96e258e4f6cb1e85239cfc4a7c6",
       "version_major": 2,
       "version_minor": 0
      },
      "text/plain": [
       "HBox(children=(FloatProgress(value=0.0, max=6.0), HTML(value='')))"
      ]
     },
     "metadata": {},
     "output_type": "display_data"
    },
    {
     "name": "stderr",
     "output_type": "stream",
     "text": [
      "2020-01-22 20:56:09,788 : INFO : Epoch[18] Complete. Time taken: 00:00:02\n",
      "2020-01-22 20:56:09,790 : INFO : Engine run starting with max_epochs=1.\n"
     ]
    },
    {
     "name": "stdout",
     "output_type": "stream",
     "text": [
      "\n"
     ]
    },
    {
     "name": "stderr",
     "output_type": "stream",
     "text": [
      "2020-01-22 20:56:12,301 : INFO : Epoch[1] Complete. Time taken: 00:00:02\n",
      "2020-01-22 20:56:12,302 : INFO : Engine run complete. Time taken 00:00:02\n",
      "2020-01-22 20:56:12,302 : INFO : Engine run starting with max_epochs=1.\n"
     ]
    },
    {
     "name": "stdout",
     "output_type": "stream",
     "text": [
      "Training Results - Epoch: 18  Avg accuracy: 0.6242 Avg loss: 0.7509\n"
     ]
    },
    {
     "name": "stderr",
     "output_type": "stream",
     "text": [
      "2020-01-22 20:56:13,140 : INFO : Epoch[1] Complete. Time taken: 00:00:00\n",
      "2020-01-22 20:56:13,140 : INFO : Engine run complete. Time taken 00:00:00\n"
     ]
    },
    {
     "name": "stdout",
     "output_type": "stream",
     "text": [
      "Validation Results - Epoch: 18  Avg accuracy: 0.5707 Avg loss: 0.8219\n"
     ]
    },
    {
     "data": {
      "application/vnd.jupyter.widget-view+json": {
       "model_id": "d11e5578198146a0a1f9b56789493f69",
       "version_major": 2,
       "version_minor": 0
      },
      "text/plain": [
       "HBox(children=(FloatProgress(value=0.0, max=6.0), HTML(value='')))"
      ]
     },
     "metadata": {},
     "output_type": "display_data"
    },
    {
     "name": "stderr",
     "output_type": "stream",
     "text": [
      "2020-01-22 20:56:15,741 : INFO : Epoch[19] Complete. Time taken: 00:00:02\n",
      "2020-01-22 20:56:15,749 : INFO : Engine run starting with max_epochs=1.\n"
     ]
    },
    {
     "name": "stdout",
     "output_type": "stream",
     "text": [
      "\n"
     ]
    },
    {
     "name": "stderr",
     "output_type": "stream",
     "text": [
      "2020-01-22 20:56:18,319 : INFO : Epoch[1] Complete. Time taken: 00:00:02\n",
      "2020-01-22 20:56:18,319 : INFO : Engine run complete. Time taken 00:00:02\n",
      "2020-01-22 20:56:18,320 : INFO : Engine run starting with max_epochs=1.\n"
     ]
    },
    {
     "name": "stdout",
     "output_type": "stream",
     "text": [
      "Training Results - Epoch: 19  Avg accuracy: 0.6371 Avg loss: 0.7413\n"
     ]
    },
    {
     "name": "stderr",
     "output_type": "stream",
     "text": [
      "2020-01-22 20:56:19,155 : INFO : Epoch[1] Complete. Time taken: 00:00:00\n",
      "2020-01-22 20:56:19,155 : INFO : Engine run complete. Time taken 00:00:00\n"
     ]
    },
    {
     "name": "stdout",
     "output_type": "stream",
     "text": [
      "Validation Results - Epoch: 19  Avg accuracy: 0.5836 Avg loss: 0.8097\n"
     ]
    },
    {
     "data": {
      "application/vnd.jupyter.widget-view+json": {
       "model_id": "34e3d4c80ed242ee8fdea9533517e907",
       "version_major": 2,
       "version_minor": 0
      },
      "text/plain": [
       "HBox(children=(FloatProgress(value=0.0, max=6.0), HTML(value='')))"
      ]
     },
     "metadata": {},
     "output_type": "display_data"
    },
    {
     "name": "stderr",
     "output_type": "stream",
     "text": [
      "2020-01-22 20:56:21,685 : INFO : Epoch[20] Complete. Time taken: 00:00:02\n",
      "2020-01-22 20:56:21,686 : INFO : Engine run starting with max_epochs=1.\n"
     ]
    },
    {
     "name": "stdout",
     "output_type": "stream",
     "text": [
      "\n"
     ]
    },
    {
     "name": "stderr",
     "output_type": "stream",
     "text": [
      "2020-01-22 20:56:24,105 : INFO : Epoch[1] Complete. Time taken: 00:00:02\n",
      "2020-01-22 20:56:24,106 : INFO : Engine run complete. Time taken 00:00:02\n",
      "2020-01-22 20:56:24,106 : INFO : Engine run starting with max_epochs=1.\n"
     ]
    },
    {
     "name": "stdout",
     "output_type": "stream",
     "text": [
      "Training Results - Epoch: 20  Avg accuracy: 0.6417 Avg loss: 0.7341\n"
     ]
    },
    {
     "name": "stderr",
     "output_type": "stream",
     "text": [
      "2020-01-22 20:56:24,910 : INFO : Epoch[1] Complete. Time taken: 00:00:00\n",
      "2020-01-22 20:56:24,911 : INFO : Engine run complete. Time taken 00:00:00\n"
     ]
    },
    {
     "name": "stdout",
     "output_type": "stream",
     "text": [
      "Validation Results - Epoch: 20  Avg accuracy: 0.5886 Avg loss: 0.8078\n"
     ]
    },
    {
     "data": {
      "application/vnd.jupyter.widget-view+json": {
       "model_id": "90dcd8773f6e442e927ffd0304991f57",
       "version_major": 2,
       "version_minor": 0
      },
      "text/plain": [
       "HBox(children=(FloatProgress(value=0.0, max=6.0), HTML(value='')))"
      ]
     },
     "metadata": {},
     "output_type": "display_data"
    },
    {
     "name": "stderr",
     "output_type": "stream",
     "text": [
      "2020-01-22 20:56:27,501 : INFO : Epoch[21] Complete. Time taken: 00:00:02\n",
      "2020-01-22 20:56:27,507 : INFO : Engine run starting with max_epochs=1.\n"
     ]
    },
    {
     "name": "stdout",
     "output_type": "stream",
     "text": [
      "\n"
     ]
    },
    {
     "name": "stderr",
     "output_type": "stream",
     "text": [
      "2020-01-22 20:56:29,917 : INFO : Epoch[1] Complete. Time taken: 00:00:02\n",
      "2020-01-22 20:56:29,918 : INFO : Engine run complete. Time taken 00:00:02\n",
      "2020-01-22 20:56:29,918 : INFO : Engine run starting with max_epochs=1.\n"
     ]
    },
    {
     "name": "stdout",
     "output_type": "stream",
     "text": [
      "Training Results - Epoch: 21  Avg accuracy: 0.6298 Avg loss: 0.7330\n"
     ]
    },
    {
     "name": "stderr",
     "output_type": "stream",
     "text": [
      "2020-01-22 20:56:30,732 : INFO : Epoch[1] Complete. Time taken: 00:00:00\n",
      "2020-01-22 20:56:30,732 : INFO : Engine run complete. Time taken 00:00:00\n"
     ]
    },
    {
     "name": "stdout",
     "output_type": "stream",
     "text": [
      "Validation Results - Epoch: 21  Avg accuracy: 0.5767 Avg loss: 0.8189\n"
     ]
    },
    {
     "data": {
      "application/vnd.jupyter.widget-view+json": {
       "model_id": "99eb986a47794dc79d97af1b4acdf342",
       "version_major": 2,
       "version_minor": 0
      },
      "text/plain": [
       "HBox(children=(FloatProgress(value=0.0, max=6.0), HTML(value='')))"
      ]
     },
     "metadata": {},
     "output_type": "display_data"
    },
    {
     "name": "stderr",
     "output_type": "stream",
     "text": [
      "2020-01-22 20:56:33,597 : INFO : Epoch[22] Complete. Time taken: 00:00:02\n",
      "2020-01-22 20:56:33,599 : INFO : Engine run starting with max_epochs=1.\n"
     ]
    },
    {
     "name": "stdout",
     "output_type": "stream",
     "text": [
      "\n"
     ]
    },
    {
     "name": "stderr",
     "output_type": "stream",
     "text": [
      "2020-01-22 20:56:36,367 : INFO : Epoch[1] Complete. Time taken: 00:00:02\n",
      "2020-01-22 20:56:36,368 : INFO : Engine run complete. Time taken 00:00:02\n",
      "2020-01-22 20:56:36,369 : INFO : Engine run starting with max_epochs=1.\n"
     ]
    },
    {
     "name": "stdout",
     "output_type": "stream",
     "text": [
      "Training Results - Epoch: 22  Avg accuracy: 0.6492 Avg loss: 0.7205\n"
     ]
    },
    {
     "name": "stderr",
     "output_type": "stream",
     "text": [
      "2020-01-22 20:56:37,225 : INFO : Epoch[1] Complete. Time taken: 00:00:00\n",
      "2020-01-22 20:56:37,226 : INFO : Engine run complete. Time taken 00:00:00\n"
     ]
    },
    {
     "name": "stdout",
     "output_type": "stream",
     "text": [
      "Validation Results - Epoch: 22  Avg accuracy: 0.5911 Avg loss: 0.8039\n"
     ]
    },
    {
     "data": {
      "application/vnd.jupyter.widget-view+json": {
       "model_id": "4ec97ebb6d5f4dbdaf5b41c89c33322b",
       "version_major": 2,
       "version_minor": 0
      },
      "text/plain": [
       "HBox(children=(FloatProgress(value=0.0, max=6.0), HTML(value='')))"
      ]
     },
     "metadata": {},
     "output_type": "display_data"
    },
    {
     "name": "stderr",
     "output_type": "stream",
     "text": [
      "2020-01-22 20:56:39,903 : INFO : Epoch[23] Complete. Time taken: 00:00:02\n",
      "2020-01-22 20:56:39,912 : INFO : Engine run starting with max_epochs=1.\n"
     ]
    },
    {
     "name": "stdout",
     "output_type": "stream",
     "text": [
      "\n"
     ]
    },
    {
     "name": "stderr",
     "output_type": "stream",
     "text": [
      "2020-01-22 20:56:42,371 : INFO : Epoch[1] Complete. Time taken: 00:00:02\n",
      "2020-01-22 20:56:42,372 : INFO : Engine run complete. Time taken 00:00:02\n",
      "2020-01-22 20:56:42,372 : INFO : Engine run starting with max_epochs=1.\n"
     ]
    },
    {
     "name": "stdout",
     "output_type": "stream",
     "text": [
      "Training Results - Epoch: 23  Avg accuracy: 0.6532 Avg loss: 0.7157\n"
     ]
    },
    {
     "name": "stderr",
     "output_type": "stream",
     "text": [
      "2020-01-22 20:56:43,195 : INFO : Epoch[1] Complete. Time taken: 00:00:00\n",
      "2020-01-22 20:56:43,196 : INFO : Engine run complete. Time taken 00:00:00\n"
     ]
    },
    {
     "name": "stdout",
     "output_type": "stream",
     "text": [
      "Validation Results - Epoch: 23  Avg accuracy: 0.5931 Avg loss: 0.8038\n"
     ]
    },
    {
     "data": {
      "application/vnd.jupyter.widget-view+json": {
       "model_id": "44e7114947844780ad7d9226c1079c5b",
       "version_major": 2,
       "version_minor": 0
      },
      "text/plain": [
       "HBox(children=(FloatProgress(value=0.0, max=6.0), HTML(value='')))"
      ]
     },
     "metadata": {},
     "output_type": "display_data"
    },
    {
     "name": "stderr",
     "output_type": "stream",
     "text": [
      "2020-01-22 20:56:45,792 : INFO : Epoch[24] Complete. Time taken: 00:00:02\n",
      "2020-01-22 20:56:45,797 : INFO : Engine run starting with max_epochs=1.\n"
     ]
    },
    {
     "name": "stdout",
     "output_type": "stream",
     "text": [
      "\n"
     ]
    },
    {
     "name": "stderr",
     "output_type": "stream",
     "text": [
      "2020-01-22 20:56:48,292 : INFO : Epoch[1] Complete. Time taken: 00:00:02\n",
      "2020-01-22 20:56:48,293 : INFO : Engine run complete. Time taken 00:00:02\n",
      "2020-01-22 20:56:48,293 : INFO : Engine run starting with max_epochs=1.\n"
     ]
    },
    {
     "name": "stdout",
     "output_type": "stream",
     "text": [
      "Training Results - Epoch: 24  Avg accuracy: 0.6515 Avg loss: 0.7117\n"
     ]
    },
    {
     "name": "stderr",
     "output_type": "stream",
     "text": [
      "2020-01-22 20:56:49,200 : INFO : Epoch[1] Complete. Time taken: 00:00:00\n",
      "2020-01-22 20:56:49,201 : INFO : Engine run complete. Time taken 00:00:00\n"
     ]
    },
    {
     "name": "stdout",
     "output_type": "stream",
     "text": [
      "Validation Results - Epoch: 24  Avg accuracy: 0.5901 Avg loss: 0.8027\n"
     ]
    },
    {
     "data": {
      "application/vnd.jupyter.widget-view+json": {
       "model_id": "50cd1421a7fd4f58a957fdeac10181f4",
       "version_major": 2,
       "version_minor": 0
      },
      "text/plain": [
       "HBox(children=(FloatProgress(value=0.0, max=6.0), HTML(value='')))"
      ]
     },
     "metadata": {},
     "output_type": "display_data"
    },
    {
     "name": "stderr",
     "output_type": "stream",
     "text": [
      "2020-01-22 20:56:51,849 : INFO : Epoch[25] Complete. Time taken: 00:00:02\n",
      "2020-01-22 20:56:51,850 : INFO : Engine run starting with max_epochs=1.\n"
     ]
    },
    {
     "name": "stdout",
     "output_type": "stream",
     "text": [
      "\n"
     ]
    },
    {
     "name": "stderr",
     "output_type": "stream",
     "text": [
      "2020-01-22 20:56:54,321 : INFO : Epoch[1] Complete. Time taken: 00:00:02\n",
      "2020-01-22 20:56:54,322 : INFO : Engine run complete. Time taken 00:00:02\n",
      "2020-01-22 20:56:54,322 : INFO : Engine run starting with max_epochs=1.\n"
     ]
    },
    {
     "name": "stdout",
     "output_type": "stream",
     "text": [
      "Training Results - Epoch: 25  Avg accuracy: 0.6576 Avg loss: 0.7060\n"
     ]
    },
    {
     "name": "stderr",
     "output_type": "stream",
     "text": [
      "2020-01-22 20:56:55,195 : INFO : Epoch[1] Complete. Time taken: 00:00:00\n",
      "2020-01-22 20:56:55,196 : INFO : Engine run complete. Time taken 00:00:00\n"
     ]
    },
    {
     "name": "stdout",
     "output_type": "stream",
     "text": [
      "Validation Results - Epoch: 25  Avg accuracy: 0.5980 Avg loss: 0.7938\n"
     ]
    },
    {
     "data": {
      "application/vnd.jupyter.widget-view+json": {
       "model_id": "feeb6082833f4c089197415422d5c29f",
       "version_major": 2,
       "version_minor": 0
      },
      "text/plain": [
       "HBox(children=(FloatProgress(value=0.0, max=6.0), HTML(value='')))"
      ]
     },
     "metadata": {},
     "output_type": "display_data"
    },
    {
     "name": "stderr",
     "output_type": "stream",
     "text": [
      "2020-01-22 20:56:58,168 : INFO : Epoch[26] Complete. Time taken: 00:00:02\n",
      "2020-01-22 20:56:58,170 : INFO : Engine run starting with max_epochs=1.\n"
     ]
    },
    {
     "name": "stdout",
     "output_type": "stream",
     "text": [
      "\n"
     ]
    },
    {
     "name": "stderr",
     "output_type": "stream",
     "text": [
      "2020-01-22 20:57:00,899 : INFO : Epoch[1] Complete. Time taken: 00:00:02\n",
      "2020-01-22 20:57:00,900 : INFO : Engine run complete. Time taken 00:00:02\n",
      "2020-01-22 20:57:00,900 : INFO : Engine run starting with max_epochs=1.\n"
     ]
    },
    {
     "name": "stdout",
     "output_type": "stream",
     "text": [
      "Training Results - Epoch: 26  Avg accuracy: 0.6566 Avg loss: 0.7093\n"
     ]
    },
    {
     "name": "stderr",
     "output_type": "stream",
     "text": [
      "2020-01-22 20:57:01,795 : INFO : Epoch[1] Complete. Time taken: 00:00:00\n",
      "2020-01-22 20:57:01,795 : INFO : Engine run complete. Time taken 00:00:00\n"
     ]
    },
    {
     "name": "stdout",
     "output_type": "stream",
     "text": [
      "Validation Results - Epoch: 26  Avg accuracy: 0.5821 Avg loss: 0.8077\n"
     ]
    },
    {
     "data": {
      "application/vnd.jupyter.widget-view+json": {
       "model_id": "0ea17f1ec9894987870d66ce7c6e0cfb",
       "version_major": 2,
       "version_minor": 0
      },
      "text/plain": [
       "HBox(children=(FloatProgress(value=0.0, max=6.0), HTML(value='')))"
      ]
     },
     "metadata": {},
     "output_type": "display_data"
    },
    {
     "name": "stderr",
     "output_type": "stream",
     "text": [
      "2020-01-22 20:57:04,464 : INFO : Epoch[27] Complete. Time taken: 00:00:02\n",
      "2020-01-22 20:57:04,467 : INFO : Engine run starting with max_epochs=1.\n"
     ]
    },
    {
     "name": "stdout",
     "output_type": "stream",
     "text": [
      "\n"
     ]
    },
    {
     "name": "stderr",
     "output_type": "stream",
     "text": [
      "2020-01-22 20:57:06,963 : INFO : Epoch[1] Complete. Time taken: 00:00:02\n",
      "2020-01-22 20:57:06,963 : INFO : Engine run complete. Time taken 00:00:02\n",
      "2020-01-22 20:57:06,964 : INFO : Engine run starting with max_epochs=1.\n"
     ]
    },
    {
     "name": "stdout",
     "output_type": "stream",
     "text": [
      "Training Results - Epoch: 27  Avg accuracy: 0.6609 Avg loss: 0.6949\n"
     ]
    },
    {
     "name": "stderr",
     "output_type": "stream",
     "text": [
      "2020-01-22 20:57:07,764 : INFO : Epoch[1] Complete. Time taken: 00:00:00\n",
      "2020-01-22 20:57:07,765 : INFO : Engine run complete. Time taken 00:00:00\n"
     ]
    },
    {
     "name": "stdout",
     "output_type": "stream",
     "text": [
      "Validation Results - Epoch: 27  Avg accuracy: 0.5935 Avg loss: 0.8010\n"
     ]
    },
    {
     "data": {
      "application/vnd.jupyter.widget-view+json": {
       "model_id": "d1027bee6cfe47b284970a38c16024f7",
       "version_major": 2,
       "version_minor": 0
      },
      "text/plain": [
       "HBox(children=(FloatProgress(value=0.0, max=6.0), HTML(value='')))"
      ]
     },
     "metadata": {},
     "output_type": "display_data"
    },
    {
     "name": "stderr",
     "output_type": "stream",
     "text": [
      "2020-01-22 20:57:10,383 : INFO : Epoch[28] Complete. Time taken: 00:00:02\n",
      "2020-01-22 20:57:10,385 : INFO : Engine run starting with max_epochs=1.\n"
     ]
    },
    {
     "name": "stdout",
     "output_type": "stream",
     "text": [
      "\n"
     ]
    },
    {
     "name": "stderr",
     "output_type": "stream",
     "text": [
      "2020-01-22 20:57:12,907 : INFO : Epoch[1] Complete. Time taken: 00:00:02\n",
      "2020-01-22 20:57:12,908 : INFO : Engine run complete. Time taken 00:00:02\n",
      "2020-01-22 20:57:12,908 : INFO : Engine run starting with max_epochs=1.\n"
     ]
    },
    {
     "name": "stdout",
     "output_type": "stream",
     "text": [
      "Training Results - Epoch: 28  Avg accuracy: 0.6725 Avg loss: 0.6895\n"
     ]
    },
    {
     "name": "stderr",
     "output_type": "stream",
     "text": [
      "2020-01-22 20:57:13,712 : INFO : Epoch[1] Complete. Time taken: 00:00:00\n",
      "2020-01-22 20:57:13,713 : INFO : EarlyStopping: Stop training\n",
      "2020-01-22 20:57:13,713 : INFO : Terminate signaled. Engine will stop after current iteration is finished.\n",
      "2020-01-22 20:57:13,714 : INFO : Engine run complete. Time taken 00:00:00\n",
      "2020-01-22 20:57:13,716 : INFO : Engine run complete. Time taken 00:02:49\n"
     ]
    },
    {
     "name": "stdout",
     "output_type": "stream",
     "text": [
      "Validation Results - Epoch: 28  Avg accuracy: 0.5975 Avg loss: 0.7979\n"
     ]
    },
    {
     "data": {
      "text/plain": [
       "<ignite.engine.engine.State at 0x7f8f2b111850>"
      ]
     },
     "execution_count": 24,
     "metadata": {},
     "output_type": "execute_result"
    }
   ],
   "source": [
    "trainer.run(train_dl, max_epochs=100)"
   ]
  },
  {
   "cell_type": "code",
   "execution_count": 25,
   "metadata": {},
   "outputs": [],
   "source": [
    "fname = 'models/stance_model_linear3.pth'\n",
    "torch.save(model, fname)"
   ]
  },
  {
   "cell_type": "code",
   "execution_count": 26,
   "metadata": {},
   "outputs": [
    {
     "data": {
      "text/plain": [
       "MultiLinearRegression(\n",
       "  (dropout): Dropout(p=0.5, inplace=False)\n",
       "  (linear1): Linear(in_features=300, out_features=256, bias=True)\n",
       "  (linear2): Linear(in_features=256, out_features=1024, bias=True)\n",
       "  (linear3): Linear(in_features=1024, out_features=3, bias=True)\n",
       ")"
      ]
     },
     "execution_count": 26,
     "metadata": {},
     "output_type": "execute_result"
    }
   ],
   "source": [
    "mod = torch.load('models/stance_model_linear3.pth')\n",
    "mod.eval()"
   ]
  },
  {
   "cell_type": "code",
   "execution_count": 27,
   "metadata": {},
   "outputs": [
    {
     "data": {
      "text/plain": [
       "MultiLinearRegression(\n",
       "  (dropout): Dropout(p=0.5, inplace=False)\n",
       "  (linear1): Linear(in_features=300, out_features=256, bias=True)\n",
       "  (linear2): Linear(in_features=256, out_features=1024, bias=True)\n",
       "  (linear3): Linear(in_features=1024, out_features=3, bias=True)\n",
       ")"
      ]
     },
     "execution_count": 27,
     "metadata": {},
     "output_type": "execute_result"
    },
    {
     "name": "stdout",
     "output_type": "stream",
     "text": [
      "<class 'torch.Tensor'>\n",
      "<class 'torch.Tensor'>\n",
      "correct  1231\n",
      "total  2016\n",
      "0.6105248235887097 0.005686113911290314\n",
      "Accuracy of the network on the test: 61 %\n",
      "[0. 1. 1. ... 1. 1. 1.]\n"
     ]
    }
   ],
   "source": [
    "mod.to(device)\n",
    "correct = 0\n",
    "total = 0\n",
    "batch_accs = np.array([])\n",
    "pred = np.array([])\n",
    "true = np.array([])\n",
    "with torch.no_grad():\n",
    "    for data in test_dl:\n",
    "        x, y = data\n",
    "        x, y = x.to(device), y.to(device)\n",
    "        outputs = mod(x)\n",
    "        #outputs = model(x, l)\n",
    "        print(type(y))\n",
    "        _, predicted = torch.max(outputs.data, 1)\n",
    "        total += y.size(0)\n",
    "        correct += (predicted == y).sum().item()\n",
    "        batch_accs = np.append(batch_accs,((predicted == y).sum().item())/y.size(0))\n",
    "        pred = np.concatenate((pred, predicted.cpu().numpy()))\n",
    "        true = np.concatenate((true, y.cpu().numpy()))\n",
    "        \n",
    "\n",
    "print('correct ', correct)\n",
    "print('total ', total)\n",
    "print(batch_accs.mean(), batch_accs.std())\n",
    "print('Accuracy of the network on the test: %d %%' % (\n",
    "    100 * correct / total))\n",
    "print(pred)"
   ]
  },
  {
   "cell_type": "code",
   "execution_count": 28,
   "metadata": {},
   "outputs": [
    {
     "name": "stdout",
     "output_type": "stream",
     "text": [
      "F-score:  0.6372955176631079\n"
     ]
    }
   ],
   "source": [
    "from sklearn.metrics import f1_score\n",
    "f1_score = f1_score(true, pred, average='macro')\n",
    "print('F-score: ', f1_score)"
   ]
  },
  {
   "cell_type": "code",
   "execution_count": 29,
   "metadata": {
    "ExecuteTime": {
     "end_time": "2019-05-19T06:06:43.023827Z",
     "start_time": "2019-05-19T06:06:42.998896Z"
    }
   },
   "outputs": [],
   "source": [
    "from sklearn.metrics import precision_recall_fscore_support"
   ]
  },
  {
   "cell_type": "code",
   "execution_count": 30,
   "metadata": {},
   "outputs": [
    {
     "name": "stdout",
     "output_type": "stream",
     "text": [
      "(0.6697604396028676, 0.6180131479231035, 0.6372955176631079, None)\n"
     ]
    }
   ],
   "source": [
    "f1_support = precision_recall_fscore_support(true, pred, average='macro')\n",
    "print(f1_support)"
   ]
  },
  {
   "cell_type": "code",
   "execution_count": 31,
   "metadata": {},
   "outputs": [
    {
     "name": "stdout",
     "output_type": "stream",
     "text": [
      "              precision    recall  f1-score   support\n",
      "\n",
      "     class 0       0.55      0.64      0.59       807\n",
      "     class 1       0.59      0.56      0.57       829\n",
      "     class 2       0.87      0.65      0.74       380\n",
      "\n",
      "    accuracy                           0.61      2016\n",
      "   macro avg       0.67      0.62      0.64      2016\n",
      "weighted avg       0.63      0.61      0.61      2016\n",
      "\n"
     ]
    }
   ],
   "source": [
    "from sklearn.metrics import classification_report\n",
    "target_names = ['class 0', 'class 1', 'class 2']\n",
    "print(classification_report(true, pred, target_names=target_names))"
   ]
  },
  {
   "cell_type": "code",
   "execution_count": 33,
   "metadata": {},
   "outputs": [],
   "source": [
    "torch.cuda.empty_cache()"
   ]
  },
  {
   "cell_type": "code",
   "execution_count": null,
   "metadata": {},
   "outputs": [],
   "source": []
  },
  {
   "cell_type": "code",
   "execution_count": null,
   "metadata": {},
   "outputs": [],
   "source": []
  },
  {
   "cell_type": "code",
   "execution_count": null,
   "metadata": {},
   "outputs": [],
   "source": []
  }
 ],
 "metadata": {
  "kernelspec": {
   "display_name": "Python 3",
   "language": "python",
   "name": "python3"
  },
  "language_info": {
   "codemirror_mode": {
    "name": "ipython",
    "version": 3
   },
   "file_extension": ".py",
   "mimetype": "text/x-python",
   "name": "python",
   "nbconvert_exporter": "python",
   "pygments_lexer": "ipython3",
   "version": "3.7.5"
  }
 },
 "nbformat": 4,
 "nbformat_minor": 2
}
